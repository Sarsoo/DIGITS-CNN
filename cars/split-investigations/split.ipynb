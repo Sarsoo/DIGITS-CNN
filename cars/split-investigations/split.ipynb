{
 "cells": [
  {
   "cell_type": "code",
   "execution_count": 1,
   "metadata": {},
   "outputs": [],
   "source": [
    "import numpy as np\n",
    "import matplotlib as mpl\n",
    "from matplotlib import pyplot as plt"
   ]
  },
  {
   "cell_type": "markdown",
   "metadata": {},
   "source": [
    "# Different Train/Validation/Test Splits\n",
    "\n",
    "## Index\n",
    "0. train prop\n",
    "1. val prop\n",
    "2. test prop\n",
    "3. top-1 accuracy\n",
    "4. top-5 accuracy\n",
    "5. last val loss\n",
    "6. last val accuracy"
   ]
  },
  {
   "cell_type": "code",
   "execution_count": 2,
   "metadata": {},
   "outputs": [],
   "source": [
    "split_results = np.array([\n",
    "    [50, 5, 45, 8.14, 20.7, 5.77, 8.29],\n",
    "    [50, 25, 25, 7.91, 20.9, 5.59, 8.41],\n",
    "    [70, 15, 15, 15.81, 34.62, 4.92, 16.82],\n",
    "    [80, 10, 10, 20.94, 44.1, 4.39, 24.45],\n",
    "    [90, 5, 5, 20.62, 45.19, 4.17, 30.29]\n",
    "])"
   ]
  },
  {
   "cell_type": "code",
   "execution_count": null,
   "metadata": {},
   "outputs": [],
   "source": []
  }
 ],
 "metadata": {
  "kernelspec": {
   "display_name": "Python 3",
   "language": "python",
   "name": "python3"
  },
  "language_info": {
   "codemirror_mode": {
    "name": "ipython",
    "version": 3
   },
   "file_extension": ".py",
   "mimetype": "text/x-python",
   "name": "python",
   "nbconvert_exporter": "python",
   "pygments_lexer": "ipython3",
   "version": "3.9.2"
  }
 },
 "nbformat": 4,
 "nbformat_minor": 4
}
